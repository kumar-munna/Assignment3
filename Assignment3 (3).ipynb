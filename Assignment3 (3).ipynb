{
 "cells": [
  {
   "cell_type": "code",
   "execution_count": 1,
   "id": "2603eb39-8656-4810-8b93-4401fe0d13cc",
   "metadata": {},
   "outputs": [],
   "source": [
    "# Question 1: Explain with an example each when to use a for loop and a while loop."
   ]
  },
  {
   "cell_type": "code",
   "execution_count": 2,
   "id": "672442db-cea8-4ce8-8af1-2c79b13ebe38",
   "metadata": {},
   "outputs": [],
   "source": [
    "# answer 1:"
   ]
  },
  {
   "cell_type": "code",
   "execution_count": 3,
   "id": "7efdb90c-1a71-4058-843a-b54ea827c6bb",
   "metadata": {},
   "outputs": [],
   "source": [
    "# For loop :- For loop is used to run a block of code for a certain number of times. It is used \n",
    "# to iterate over any sequences such as list, string, tuple etc.\n",
    "# for eg :- If we print certain number of codes for 60 times , we use for loop to run codes 60 \n",
    "# times, we not print one line and copy and paste. It take lot of time and occupy more space."
   ]
  },
  {
   "cell_type": "code",
   "execution_count": 8,
   "id": "7ef8fc32-405b-4d44-ad0d-beaa63c6c7f4",
   "metadata": {},
   "outputs": [
    {
     "name": "stdout",
     "output_type": "stream",
     "text": [
      "example of for loop\n",
      "example of for loop\n",
      "example of for loop\n",
      "example of for loop\n",
      "example of for loop\n",
      "example of for loop\n",
      "example of for loop\n",
      "example of for loop\n",
      "example of for loop\n",
      "example of for loop\n"
     ]
    }
   ],
   "source": [
    "for i in range(0,10):\n",
    "    print(\"example of for loop\")\n",
    "    i+=1"
   ]
  },
  {
   "cell_type": "code",
   "execution_count": 6,
   "id": "c47b1d29-6827-4a3b-bfe8-90c7903cfaa4",
   "metadata": {},
   "outputs": [],
   "source": [
    "# while loop :- While loop allows a part of the code to be executed multiple times depending \n",
    "# upon a given boolean .The while loop is mostly used in the case where the number of iteration \n",
    "# is not known in advance."
   ]
  },
  {
   "cell_type": "code",
   "execution_count": 7,
   "id": "62961846-5a93-4a84-b7e4-34533d10ee5d",
   "metadata": {},
   "outputs": [
    {
     "name": "stdout",
     "output_type": "stream",
     "text": [
      "example of while loop \n",
      "example of while loop \n",
      "example of while loop \n",
      "example of while loop \n",
      "example of while loop \n",
      "example of while loop \n",
      "example of while loop \n",
      "example of while loop \n",
      "example of while loop \n",
      "example of while loop \n",
      "example of while loop \n"
     ]
    }
   ],
   "source": [
    "i=0\n",
    "while i<=10:\n",
    "    print(\"example of while loop \")\n",
    "    i+=1"
   ]
  },
  {
   "cell_type": "code",
   "execution_count": 9,
   "id": "98cd9fcd-aa49-435d-a285-2172c4e7ea0b",
   "metadata": {},
   "outputs": [],
   "source": [
    "# Question 2: Write a python program to print the sum and product of the first 10 natural number\n",
    "# using for and while loop."
   ]
  },
  {
   "cell_type": "code",
   "execution_count": 10,
   "id": "7c2c4970-fb6f-4d18-a506-6c7200b41bb4",
   "metadata": {},
   "outputs": [],
   "source": [
    "# first for loop"
   ]
  },
  {
   "cell_type": "code",
   "execution_count": 23,
   "id": "8510480d-e7da-4e55-9653-17ad9e310e54",
   "metadata": {},
   "outputs": [
    {
     "name": "stdout",
     "output_type": "stream",
     "text": [
      "sum of first 10 natural number = 55\n",
      "product of first 10 natural number = 3628800\n"
     ]
    }
   ],
   "source": [
    "sum=0\n",
    "product=1\n",
    "for i in range(1,11):\n",
    "    sum=sum+i\n",
    "    product =product*i\n",
    "    i+=1\n",
    "print(\"sum of first 10 natural number =\",sum)\n",
    "print(\"product of first 10 natural number =\",product)\n",
    "    "
   ]
  },
  {
   "cell_type": "code",
   "execution_count": 18,
   "id": "3c2f036c-6962-4aa4-8b41-d409fc14d8d5",
   "metadata": {},
   "outputs": [],
   "source": [
    "# second while loop"
   ]
  },
  {
   "cell_type": "code",
   "execution_count": 25,
   "id": "d60ef4ae-da7d-408a-93d0-720b68a1c853",
   "metadata": {},
   "outputs": [
    {
     "name": "stdout",
     "output_type": "stream",
     "text": [
      "sum of first 10 natural number = 55\n",
      "product of first 10 natural number = 3628800\n"
     ]
    }
   ],
   "source": [
    "sum=0\n",
    "product=1\n",
    "i=1\n",
    "while i<=10:\n",
    "    sum=sum+i\n",
    "    product=product*i\n",
    "    i+=1\n",
    "print(\"sum of first 10 natural number =\",sum)\n",
    "print(\"product of first 10 natural number =\",product)\n",
    "    \n"
   ]
  },
  {
   "cell_type": "code",
   "execution_count": 26,
   "id": "a9fbc3bf-3b13-4d23-9511-b9432186b84a",
   "metadata": {},
   "outputs": [],
   "source": [
    "# Qustion 3: Create a python program to compute the electricity bill for a household.The per-unit \n",
    "# charges in rupees are as follows: For the first 100 units, the user will be charged Rs. 4.5 per\n",
    "# unit, for the next 100 units, the user will be charged Rs. 6 per unit, and for the next 100 units \n",
    "# the user will be charged Rs 10 per unit, After 300 unit and above the user will be charged Rs. 20\n",
    "# per unit.\n",
    "# You are required to take the units of electricity consumed in a month from the user as input.\n",
    "# Your program must pass this test case : when the unit of electricity consumed by user in a month is \n",
    "# 310, the total electricity bill should be 2250."
   ]
  },
  {
   "cell_type": "code",
   "execution_count": null,
   "id": "34ad9f3c-9b46-4b04-aa63-5833bac9946a",
   "metadata": {},
   "outputs": [],
   "source": [
    "# Answer 4:"
   ]
  },
  {
   "cell_type": "code",
   "execution_count": 16,
   "id": "38b71b5e-bc47-4e61-b909-41c4698883f0",
   "metadata": {},
   "outputs": [
    {
     "name": "stdin",
     "output_type": "stream",
     "text": [
      "enter your units = 310\n"
     ]
    },
    {
     "name": "stdout",
     "output_type": "stream",
     "text": [
      "Electricity bill = 2250.0\n"
     ]
    }
   ],
   "source": [
    "units= int(input(\"enter your units =\"))\n",
    "if units<=100:\n",
    "    print(\"Electricity bill =\",units*4.5)\n",
    "elif units>100 and units<=200:\n",
    "    print(\"Electricity bill =\",(100*4.5)+(units-100)*6)\n",
    "elif units>200 and units<=300:\n",
    "    print(\"Electricity bill =\",(100*4.5)+(100*6)+((units-300)*10))\n",
    "elif units>300:\n",
    "    print(\"Electricity bill =\",(100*4.5)+(100*6)+(100*10)+((units-300)*20))\n",
    "    "
   ]
  },
  {
   "cell_type": "code",
   "execution_count": 31,
   "id": "c7b74938-29ac-47f9-8728-86d4d63602fa",
   "metadata": {},
   "outputs": [],
   "source": [
    "# question 4: Create a list of numbers from 1 to 100.Use for loop and while loop to calculate the cube of each\n",
    "# number and if the cube of that number is divisible by 4 or 5 then append that number in a list \n",
    "# and print that list."
   ]
  },
  {
   "cell_type": "code",
   "execution_count": 32,
   "id": "5c991b05-f553-429b-95e5-7cc983149a23",
   "metadata": {},
   "outputs": [],
   "source": [
    "# Answer 4:"
   ]
  },
  {
   "cell_type": "code",
   "execution_count": 9,
   "id": "2734f82c-9edf-41bd-9363-117af8ddded2",
   "metadata": {},
   "outputs": [],
   "source": [
    "# using for loop"
   ]
  },
  {
   "cell_type": "code",
   "execution_count": 10,
   "id": "45a11fa1-242b-40ae-a275-0e10caa4e258",
   "metadata": {},
   "outputs": [
    {
     "name": "stdout",
     "output_type": "stream",
     "text": [
      "List of numbers whose cube is divisible by 4 or 5: [2, 4, 5, 6, 8, 10, 12, 14, 15, 16, 18, 20, 22, 24, 25, 26, 28, 30, 32, 34, 35, 36, 38, 40, 42, 44, 45, 46, 48, 50, 52, 54, 55, 56, 58, 60, 62, 64, 65, 66, 68, 70, 72, 74, 75, 76, 78, 80, 82, 84, 85, 86, 88, 90, 92, 94, 95, 96, 98, 100]\n"
     ]
    }
   ],
   "source": [
    "numbers = []\n",
    "result = []\n",
    "\n",
    "for i in range(1, 101):\n",
    "    cube = i**3\n",
    "    numbers.append(cube)\n",
    "    if cube % 4 == 0 or cube % 5 == 0:\n",
    "        result.append(i)\n",
    "\n",
    "print(\"List of numbers whose cube is divisible by 4 or 5:\", result)"
   ]
  },
  {
   "cell_type": "code",
   "execution_count": 11,
   "id": "5da808ea-fbee-4ab5-aa65-1d8a663ee443",
   "metadata": {},
   "outputs": [],
   "source": [
    "# using while loop"
   ]
  },
  {
   "cell_type": "code",
   "execution_count": 12,
   "id": "c6f6b3db-d740-42a8-8f97-54e42b267312",
   "metadata": {},
   "outputs": [
    {
     "name": "stdout",
     "output_type": "stream",
     "text": [
      "List of numbers whose cube is divisible by 4 or 5: [2, 4, 5, 6, 8, 10, 12, 14, 15, 16, 18, 20, 22, 24, 25, 26, 28, 30, 32, 34, 35, 36, 38, 40, 42, 44, 45, 46, 48, 50, 52, 54, 55, 56, 58, 60, 62, 64, 65, 66, 68, 70, 72, 74, 75, 76, 78, 80, 82, 84, 85, 86, 88, 90, 92, 94, 95, 96, 98, 100]\n"
     ]
    }
   ],
   "source": [
    "numbers = []\n",
    "result = []\n",
    "i = 1\n",
    "\n",
    "while i <= 100:\n",
    "    cube = i**3\n",
    "    numbers.append(cube)\n",
    "    if cube % 4 == 0 or cube % 5 == 0:\n",
    "        result.append(i)\n",
    "    i += 1\n",
    "\n",
    "print(\"List of numbers whose cube is divisible by 4 or 5:\", result)"
   ]
  },
  {
   "cell_type": "code",
   "execution_count": 37,
   "id": "942436e1-b341-4966-8ef8-e073439106bf",
   "metadata": {},
   "outputs": [],
   "source": [
    "# Question 5: Write a program to filter count vowels in the below-given string.\n",
    "#string=\"I want to become a data scientist\""
   ]
  },
  {
   "cell_type": "code",
   "execution_count": 38,
   "id": "0eec84dd-7275-4562-86bc-939cdd20f2f7",
   "metadata": {},
   "outputs": [],
   "source": [
    "# Answer 5:"
   ]
  },
  {
   "cell_type": "code",
   "execution_count": 73,
   "id": "1ba2e7b6-6849-4d84-b2a5-6b3778fe9263",
   "metadata": {},
   "outputs": [
    {
     "name": "stdout",
     "output_type": "stream",
     "text": [
      "Number of vowels = 12\n"
     ]
    }
   ],
   "source": [
    "s = \"I want to become a data scientist\"\n",
    "\n",
    "s=s.lower()\n",
    "\n",
    "count=0\n",
    "\n",
    "for i in s:\n",
    "    \n",
    "    if i in [\"a\",\"e\",\"i\",\"o\",\"u\"]:\n",
    "        \n",
    "        count = count + 1\n",
    "\n",
    "print(\"Number of vowels =\",count)"
   ]
  },
  {
   "cell_type": "code",
   "execution_count": null,
   "id": "5b5a1a89-38b9-41ea-ab3e-ba95149c8d8d",
   "metadata": {},
   "outputs": [],
   "source": []
  },
  {
   "cell_type": "code",
   "execution_count": null,
   "id": "ab3eb0a8-d902-44d7-9322-c1362c94b8a9",
   "metadata": {},
   "outputs": [],
   "source": []
  },
  {
   "cell_type": "code",
   "execution_count": null,
   "id": "96dde27a-bb0a-448e-ac6f-8664dd4086fa",
   "metadata": {},
   "outputs": [],
   "source": []
  }
 ],
 "metadata": {
  "kernelspec": {
   "display_name": "Python 3 (ipykernel)",
   "language": "python",
   "name": "python3"
  },
  "language_info": {
   "codemirror_mode": {
    "name": "ipython",
    "version": 3
   },
   "file_extension": ".py",
   "mimetype": "text/x-python",
   "name": "python",
   "nbconvert_exporter": "python",
   "pygments_lexer": "ipython3",
   "version": "3.10.8"
  }
 },
 "nbformat": 4,
 "nbformat_minor": 5
}
